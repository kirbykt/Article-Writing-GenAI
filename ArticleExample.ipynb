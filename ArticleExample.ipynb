{
 "cells": [
  {
   "cell_type": "code",
   "execution_count": 4,
   "id": "3f3e2fa8-bbda-4a65-a136-c69798801097",
   "metadata": {},
   "outputs": [
    {
     "name": "stdout",
     "output_type": "stream",
     "text": [
      "Defaulting to user installation because normal site-packages is not writeable\n",
      "Requirement already satisfied: scikit-learn in c:\\users\\katki\\appdata\\local\\packages\\pythonsoftwarefoundation.python.3.13_qbz5n2kfra8p0\\localcache\\local-packages\\python313\\site-packages (1.6.1)\n",
      "Requirement already satisfied: numpy>=1.19.5 in c:\\users\\katki\\appdata\\local\\packages\\pythonsoftwarefoundation.python.3.13_qbz5n2kfra8p0\\localcache\\local-packages\\python313\\site-packages (from scikit-learn) (2.2.3)\n",
      "Requirement already satisfied: scipy>=1.6.0 in c:\\users\\katki\\appdata\\local\\packages\\pythonsoftwarefoundation.python.3.13_qbz5n2kfra8p0\\localcache\\local-packages\\python313\\site-packages (from scikit-learn) (1.15.2)\n",
      "Requirement already satisfied: joblib>=1.2.0 in c:\\users\\katki\\appdata\\local\\packages\\pythonsoftwarefoundation.python.3.13_qbz5n2kfra8p0\\localcache\\local-packages\\python313\\site-packages (from scikit-learn) (1.4.2)\n",
      "Requirement already satisfied: threadpoolctl>=3.1.0 in c:\\users\\katki\\appdata\\local\\packages\\pythonsoftwarefoundation.python.3.13_qbz5n2kfra8p0\\localcache\\local-packages\\python313\\site-packages (from scikit-learn) (3.5.0)\n"
     ]
    },
    {
     "name": "stderr",
     "output_type": "stream",
     "text": [
      "\n",
      "[notice] A new release of pip is available: 25.0.1 -> 25.1\n",
      "[notice] To update, run: C:\\Users\\katki\\AppData\\Local\\Microsoft\\WindowsApps\\PythonSoftwareFoundation.Python.3.13_qbz5n2kfra8p0\\python.exe -m pip install --upgrade pip\n"
     ]
    }
   ],
   "source": [
    "!pip install scikit-learn"
   ]
  },
  {
   "cell_type": "code",
   "execution_count": 5,
   "id": "dd82d165-7ce8-4613-b12a-81b6ef27bd1c",
   "metadata": {},
   "outputs": [],
   "source": [
    "import pandas as pd\n",
    "from sklearn.feature_extraction.text import CountVectorizer"
   ]
  },
  {
   "cell_type": "code",
   "execution_count": 6,
   "id": "0d8791b8-ca3c-482f-8b47-638a5c075f1a",
   "metadata": {},
   "outputs": [],
   "source": [
    "# Step 1: Load simple text data using Pandas\n",
    "data = {\n",
    "    'Text': [\n",
    "        \"Generative AI creates amazing images.\",\n",
    "        \"Large Language Models can write essays.\",\n",
    "        \"GANs generate realistic pictures.\",\n",
    "        \"Diffusion Models turn noise into art.\"\n",
    "    ]\n",
    "}\n",
    "\n",
    "df = pd.DataFrame(data)"
   ]
  },
  {
   "cell_type": "code",
   "execution_count": 7,
   "id": "8d8a8040-a552-416b-a145-8834c2dff6c5",
   "metadata": {},
   "outputs": [],
   "source": [
    "# Step 2: Convert the text into numerical features using scikit-learn\n",
    "vectorizer = CountVectorizer()\n",
    "X = vectorizer.fit_transform(df['Text'])"
   ]
  },
  {
   "cell_type": "code",
   "execution_count": 8,
   "id": "89fc8771-d163-4208-a29c-ccfd6926467e",
   "metadata": {},
   "outputs": [
    {
     "name": "stdout",
     "output_type": "stream",
     "text": [
      "Feature Names: ['ai' 'amazing' 'art' 'can' 'creates' 'diffusion' 'essays' 'gans'\n",
      " 'generate' 'generative' 'images' 'into' 'language' 'large' 'models'\n",
      " 'noise' 'pictures' 'realistic' 'turn' 'write']\n",
      "Numerical Representation:\n",
      " [[1 1 0 0 1 0 0 0 0 1 1 0 0 0 0 0 0 0 0 0]\n",
      " [0 0 0 1 0 0 1 0 0 0 0 0 1 1 1 0 0 0 0 1]\n",
      " [0 0 0 0 0 0 0 1 1 0 0 0 0 0 0 0 1 1 0 0]\n",
      " [0 0 1 0 0 1 0 0 0 0 0 1 0 0 1 1 0 0 1 0]]\n"
     ]
    }
   ],
   "source": [
    "# Step 3: Show the result\n",
    "print(\"Feature Names:\", vectorizer.get_feature_names_out())\n",
    "print(\"Numerical Representation:\\n\", X.toarray())"
   ]
  },
  {
   "cell_type": "code",
   "execution_count": null,
   "id": "9d04ab00-e048-4908-ae20-ea8bcd1bd5ae",
   "metadata": {},
   "outputs": [],
   "source": []
  }
 ],
 "metadata": {
  "kernelspec": {
   "display_name": "Python 3 (ipykernel)",
   "language": "python",
   "name": "python3"
  },
  "language_info": {
   "codemirror_mode": {
    "name": "ipython",
    "version": 3
   },
   "file_extension": ".py",
   "mimetype": "text/x-python",
   "name": "python",
   "nbconvert_exporter": "python",
   "pygments_lexer": "ipython3",
   "version": "3.13.3"
  }
 },
 "nbformat": 4,
 "nbformat_minor": 5
}
